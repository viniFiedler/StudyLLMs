{
 "cells": [
  {
   "cell_type": "code",
   "execution_count": 1,
   "metadata": {},
   "outputs": [
    {
     "name": "stdout",
     "output_type": "stream",
     "text": [
      "cpu\n"
     ]
    }
   ],
   "source": [
    "import torch\n",
    "device = 'cuda' if torch.cuda.is_available() else 'cpu'\n",
    "print(device)\n",
    "block_size = 8\n",
    "batch_size = 4"
   ]
  },
  {
   "cell_type": "code",
   "execution_count": 2,
   "metadata": {},
   "outputs": [
    {
     "name": "stdout",
     "output_type": "stream",
     "text": [
      "['\\n', ' ', '!', '(', ')', ',', '-', '.', '0', '1', '9', ':', ';', '?', 'A', 'B', 'C', 'D', 'E', 'F', 'G', 'H', 'I', 'J', 'K', 'L', 'M', 'N', 'O', 'P', 'Q', 'R', 'S', 'T', 'U', 'V', 'W', 'X', 'Y', 'Z', 'a', 'b', 'c', 'd', 'e', 'f', 'g', 'h', 'i', 'j', 'k', 'l', 'm', 'n', 'o', 'p', 'q', 'r', 's', 't', 'u', 'v', 'w', 'x', 'y', 'z', '—', '‘', '’', '“', '”']\n"
     ]
    }
   ],
   "source": [
    "with open(\"wizard_of_oz.txt\",\"r\", encoding = \"utf-8\") as f:\n",
    "    text = f.read()\n",
    "chars = sorted(set(text))\n",
    "print(chars)"
   ]
  },
  {
   "cell_type": "code",
   "execution_count": 3,
   "metadata": {},
   "outputs": [
    {
     "name": "stdout",
     "output_type": "stream",
     "text": [
      "Hello\n"
     ]
    }
   ],
   "source": [
    "\"\"\"Tokeniza os caracteres do texto\"\"\"\n",
    "string_to_int = {ch:i for i,ch in enumerate(chars)}\n",
    "int_to_string = { i:ch for i,ch in enumerate(chars)}\n",
    "encode = lambda s: [string_to_int[c] for c in s]\n",
    "decode = lambda l: ''.join([int_to_string[i] for i in l])\n",
    "\n",
    "encoded_hello = encode('Hello')\n",
    "decoded_hello = decode(encoded_hello)\n",
    "print(decoded_hello)"
   ]
  },
  {
   "cell_type": "code",
   "execution_count": 4,
   "metadata": {},
   "outputs": [
    {
     "name": "stdout",
     "output_type": "stream",
     "text": [
      "tensor([16, 54, 53, 59, 44, 53, 59, 58,  0,  0,  1, 22, 53, 59, 57, 54, 43, 60,\n",
      "        42, 59, 48, 54, 53,  0,  1, 16, 47, 40, 55, 59, 44, 57,  1, 22,  7,  1,\n",
      "        33, 47, 44,  1, 16, 64, 42, 51, 54, 53, 44,  0,  1, 16, 47, 40, 55, 59,\n",
      "        44, 57,  1, 22, 22,  7,  1, 33, 47, 44,  1, 16, 54, 60, 53, 42, 48, 51,\n",
      "         1, 62, 48, 59, 47,  1, 59, 47, 44,  1, 26, 60, 53, 42, 47, 50, 48, 53,\n",
      "        58,  0,  1, 16, 47, 40, 55, 59, 44, 57])\n"
     ]
    }
   ],
   "source": [
    "# Tokeniza Palavras no texto\n",
    "data = torch.tensor(encode(text), dtype=torch.long)\n",
    "print(data[:100])"
   ]
  },
  {
   "cell_type": "code",
   "execution_count": 5,
   "metadata": {},
   "outputs": [],
   "source": [
    "n = int(0.8 * len(data))\n",
    "train_data = data[:n]\n",
    "val_data = data[n + 1:]"
   ]
  },
  {
   "cell_type": "code",
   "execution_count": 6,
   "metadata": {},
   "outputs": [
    {
     "name": "stdout",
     "output_type": "stream",
     "text": [
      "When input is tensor([16]) target is tensor(54)\n",
      "When input is tensor([16, 54]) target is tensor(53)\n",
      "When input is tensor([16, 54, 53]) target is tensor(59)\n",
      "When input is tensor([16, 54, 53, 59]) target is tensor(44)\n",
      "When input is tensor([16, 54, 53, 59, 44]) target is tensor(53)\n",
      "When input is tensor([16, 54, 53, 59, 44, 53]) target is tensor(59)\n",
      "When input is tensor([16, 54, 53, 59, 44, 53, 59]) target is tensor(58)\n",
      "When input is tensor([16, 54, 53, 59, 44, 53, 59, 58]) target is tensor(0)\n"
     ]
    }
   ],
   "source": [
    "x = train_data[:n]\n",
    "y = train_data[1:block_size+1]\n",
    "\n",
    "for t in range(block_size):\n",
    "        context = x[:t+1]\n",
    "        target = y[t]\n",
    "        print('When input is', context, 'target is',target)"
   ]
  }
 ],
 "metadata": {
  "kernelspec": {
   "display_name": "cuda-LLMD",
   "language": "python",
   "name": "cuda"
  },
  "language_info": {
   "codemirror_mode": {
    "name": "ipython",
    "version": 3
   },
   "file_extension": ".py",
   "mimetype": "text/x-python",
   "name": "python",
   "nbconvert_exporter": "python",
   "pygments_lexer": "ipython3",
   "version": "3.11.4"
  }
 },
 "nbformat": 4,
 "nbformat_minor": 2
}
